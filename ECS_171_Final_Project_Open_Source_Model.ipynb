{
  "cells": [
    {
      "cell_type": "markdown",
      "metadata": {
        "id": "view-in-github",
        "colab_type": "text"
      },
      "source": [
        "<a href=\"https://colab.research.google.com/github/anujbhandari2/ECS171-Final-Project/blob/main/ECS_171_Final_Project_Open_Source_Model.ipynb\" target=\"_parent\"><img src=\"https://colab.research.google.com/assets/colab-badge.svg\" alt=\"Open In Colab\"/></a>"
      ]
    },
    {
      "cell_type": "markdown",
      "metadata": {
        "id": "NBCF6IETt6bX"
      },
      "source": [
        "# Bitcoin Price Prediction with Neural prophet\n",
        "\n",
        "## This notebook demonstrates an end-to-end pipeline for forecasting **daily Bitcoin price**\n",
        "\n",
        "# Features / Steps:\n",
        "## 1. **Load and explore** dataset (Date, Open, High, Low, Close, Volume).\n",
        "## 2. **Data cleaning** and optional **feature engineering** (technical indicators).\n",
        "## 3. **Scaling** for better neural network training.\n",
        "## 4. **Windowing** (past N days) and **horizon setting** (predict next 1 day).\n",
        "##    - Easily extendable to multi-step forecasting (e.g., next 7 days).\n",
        "## 5. Model Development: The Neural Prophet model is trained on the input data. We used a small trend regularization term (0.1) so that the model was able to capture detailed price fluctuations. This is valued over a generally smooth prediction because of the volatile nature of Bitcoin. We also used 1 as the number of lag terms, as this allowed the model to pick up on large up and down movements in the prices.\n",
        "\n",
        "## 6. **Testing & evaluation** using MSE, MAE, RMSE, and MAPE.\n",
        "## 7. **Plotting** predictions vs. actual prices."
      ]
    },
    {
      "cell_type": "markdown",
      "metadata": {
        "id": "B9uzt3fAuRSO"
      },
      "source": [
        "\\- Global Import Statements -"
      ]
    },
    {
      "cell_type": "code",
      "execution_count": null,
      "metadata": {
        "id": "ZMpxew_3uv_L"
      },
      "outputs": [],
      "source": [
        "import pandas as pd\n",
        "import numpy as np\n",
        "import matplotlib.pyplot as plt\n",
        "import math\n",
        "import torch\n",
        "import torch.nn as nn\n",
        "import torch.optim as optim\n",
        "from torch.nn.functional import mse_loss\n",
        "from sklearn.preprocessing import MinMaxScaler\n",
        "import os\n",
        "import kagglehub\n",
        "from neuralprophet import NeuralProphet, set_log_level\n",
        "import torch"
      ]
    },
    {
      "cell_type": "code",
      "execution_count": null,
      "metadata": {
        "id": "LwCdgNWTIo_5"
      },
      "outputs": [],
      "source": [
        "# disable logging unless it's an error\n",
        "set_log_level(\"ERROR\")"
      ]
    },
    {
      "cell_type": "markdown",
      "metadata": {
        "id": "Y5g0fhkYuK0R"
      },
      "source": [
        "# 1. Loading the dataset from Kaggle"
      ]
    },
    {
      "cell_type": "code",
      "execution_count": null,
      "metadata": {
        "colab": {
          "base_uri": "https://localhost:8080/"
        },
        "id": "2cOmCE1k5Qy5",
        "outputId": "c5f06222-a1ba-43f9-f953-01f42fc8d12f"
      },
      "outputs": [
        {
          "name": "stdout",
          "output_type": "stream",
          "text": [
            "Path to dataset files: /Users/stanleyko/.cache/kagglehub/datasets/arslanr369/bitcoin-price-2014-2023/versions/1\n",
            "Files in dataset directory: ['BTC-USD.csv']\n",
            "        Date        Open        High         Low       Close   Adj Close  \\\n",
            "0 2014-09-17  465.864014  468.174011  452.421997  457.334015  457.334015   \n",
            "1 2014-09-18  456.859985  456.859985  413.104004  424.440002  424.440002   \n",
            "2 2014-09-19  424.102997  427.834991  384.532013  394.795990  394.795990   \n",
            "3 2014-09-20  394.673004  423.295990  389.882996  408.903992  408.903992   \n",
            "4 2014-09-21  408.084991  412.425995  393.181000  398.821014  398.821014   \n",
            "\n",
            "     Volume  \n",
            "0  21056800  \n",
            "1  34483200  \n",
            "2  37919700  \n",
            "3  36863600  \n",
            "4  26580100  \n",
            "           Date          Open          High           Low         Close  \\\n",
            "3223 2023-07-15  30331.783203  30407.781250  30263.462891  30295.806641   \n",
            "3224 2023-07-16  30297.472656  30437.560547  30089.669922  30249.132813   \n",
            "3225 2023-07-17  30249.626953  30336.400391  29685.783203  30145.888672   \n",
            "3226 2023-07-18  30147.070313  30233.656250  29556.427734  29856.562500   \n",
            "3227 2023-07-20  29919.064453  30224.115234  29918.281250  30189.902344   \n",
            "\n",
            "         Adj Close       Volume  \n",
            "3223  30295.806641   8011667756  \n",
            "3224  30249.132813   8516564470  \n",
            "3225  30145.888672  13240156074  \n",
            "3226  29856.562500  13138897269  \n",
            "3227  30189.902344  11906640896  \n",
            "<class 'pandas.core.frame.DataFrame'>\n",
            "RangeIndex: 3228 entries, 0 to 3227\n",
            "Data columns (total 7 columns):\n",
            " #   Column     Non-Null Count  Dtype         \n",
            "---  ------     --------------  -----         \n",
            " 0   Date       3228 non-null   datetime64[ns]\n",
            " 1   Open       3228 non-null   float64       \n",
            " 2   High       3228 non-null   float64       \n",
            " 3   Low        3228 non-null   float64       \n",
            " 4   Close      3228 non-null   float64       \n",
            " 5   Adj Close  3228 non-null   float64       \n",
            " 6   Volume     3228 non-null   int64         \n",
            "dtypes: datetime64[ns](1), float64(5), int64(1)\n",
            "memory usage: 176.7 KB\n",
            "None\n",
            "                                Date          Open          High  \\\n",
            "count                           3228   3228.000000   3228.000000   \n",
            "mean   2019-02-16 12:00:26.765799424  13664.725548  13997.728538   \n",
            "min              2014-09-17 00:00:00    176.897003    211.731003   \n",
            "25%              2016-12-01 18:00:00    762.625244    773.658493   \n",
            "50%              2019-02-16 12:00:00   7688.712403   7915.482666   \n",
            "75%              2021-05-03 06:00:00  20282.866699  20754.581543   \n",
            "max              2023-07-20 00:00:00  67549.734375  68789.625000   \n",
            "std                              NaN  16018.010041  16418.141665   \n",
            "\n",
            "                Low         Close     Adj Close        Volume  \n",
            "count   3228.000000   3228.000000   3228.000000  3.228000e+03  \n",
            "mean   13300.725867  13672.568197  13672.568197  1.656613e+10  \n",
            "min      171.509995    178.102997    178.102997  5.914570e+06  \n",
            "25%      750.296265    764.113251    764.113251  1.304910e+08  \n",
            "50%     7511.864746   7697.924072   7697.924072  1.019161e+10  \n",
            "75%    19902.022949  20297.028808  20297.028808  2.742777e+10  \n",
            "max    66382.062500  67566.828125  67566.828125  3.509679e+11  \n",
            "std    15561.618968  16015.763332  16015.763332  1.949084e+10  \n"
          ]
        }
      ],
      "source": [
        "path = kagglehub.dataset_download(\"arslanr369/bitcoin-price-2014-2023\")\n",
        "print(\"Path to dataset files:\", path)\n",
        "\n",
        "# List files in the directory\n",
        "files = os.listdir(path)\n",
        "print(\"Files in dataset directory:\", files)\n",
        "\n",
        "# Identify the CSV file\n",
        "csv_file = [f for f in files if f.endswith(\".csv\")][0]\n",
        "csv_path = os.path.join(path, csv_file)\n",
        "\n",
        "# Load dataset\n",
        "df = pd.read_csv(csv_path, parse_dates=['Date'])\n",
        "# sanity checks #\n",
        "df.sort_values(by='Date', inplace=True)\n",
        "df.reset_index(drop=True, inplace=True)\n",
        "\n",
        "print(df.head())\n",
        "print(df.tail())\n",
        "print(df.info())\n",
        "print(df.describe())\n",
        "\n",
        "# set seed for reproducibility\n",
        "torch.manual_seed(42)\n",
        "np.random.seed(42)"
      ]
    },
    {
      "cell_type": "markdown",
      "metadata": {
        "id": "PkC6pVO4y_X5"
      },
      "source": [
        "# 2. Basic Data Cleaning & Feature Selection\n",
        "## - Besides using just **Close** price, we can leverage:\n",
        "##   - **Technical indicators** like RSI, moving averages, etc.\n",
        "##   - **Volume** can be a valuable feature.\n",
        "##   - **High, Low, Open** to capture intraday volatility.\n",
        "##   \n",
        "## - The final model input dimension becomes greater than 1 if we include these features.\n"
      ]
    },
    {
      "cell_type": "code",
      "execution_count": null,
      "metadata": {
        "colab": {
          "base_uri": "https://localhost:8080/",
          "height": 241
        },
        "id": "Tjq4OxNTvy8P",
        "outputId": "5a2e5195-d1fc-46d3-a6e5-45f86df6fa38"
      },
      "outputs": [
        {
          "name": "stderr",
          "output_type": "stream",
          "text": [
            "WARNING - (py.warnings._showwarnmsg) - /var/folders/sx/fxh2dp3x4ysfd39194pck6f80000gn/T/ipykernel_50233/3991748474.py:18: FutureWarning:\n",
            "\n",
            "DataFrame.fillna with 'method' is deprecated and will raise in a future version. Use obj.ffill() or obj.bfill() instead.\n",
            "\n",
            "\n"
          ]
        },
        {
          "data": {
            "text/html": [
              "<div>\n",
              "<style scoped>\n",
              "    .dataframe tbody tr th:only-of-type {\n",
              "        vertical-align: middle;\n",
              "    }\n",
              "\n",
              "    .dataframe tbody tr th {\n",
              "        vertical-align: top;\n",
              "    }\n",
              "\n",
              "    .dataframe thead th {\n",
              "        text-align: right;\n",
              "    }\n",
              "</style>\n",
              "<table border=\"1\" class=\"dataframe\">\n",
              "  <thead>\n",
              "    <tr style=\"text-align: right;\">\n",
              "      <th></th>\n",
              "      <th>ds</th>\n",
              "      <th>y</th>\n",
              "      <th>Volume</th>\n",
              "      <th>SMA_7</th>\n",
              "      <th>EMA_14</th>\n",
              "      <th>RSI_14</th>\n",
              "    </tr>\n",
              "  </thead>\n",
              "  <tbody>\n",
              "    <tr>\n",
              "      <th>0</th>\n",
              "      <td>2014-09-17</td>\n",
              "      <td>457.334015</td>\n",
              "      <td>21056800</td>\n",
              "      <td>417.462572</td>\n",
              "      <td>457.334015</td>\n",
              "      <td>31.997433</td>\n",
              "    </tr>\n",
              "    <tr>\n",
              "      <th>1</th>\n",
              "      <td>2014-09-18</td>\n",
              "      <td>424.440002</td>\n",
              "      <td>34483200</td>\n",
              "      <td>417.462572</td>\n",
              "      <td>452.948147</td>\n",
              "      <td>31.997433</td>\n",
              "    </tr>\n",
              "    <tr>\n",
              "      <th>2</th>\n",
              "      <td>2014-09-19</td>\n",
              "      <td>394.795990</td>\n",
              "      <td>37919700</td>\n",
              "      <td>417.462572</td>\n",
              "      <td>445.194526</td>\n",
              "      <td>31.997433</td>\n",
              "    </tr>\n",
              "    <tr>\n",
              "      <th>3</th>\n",
              "      <td>2014-09-20</td>\n",
              "      <td>408.903992</td>\n",
              "      <td>36863600</td>\n",
              "      <td>417.462572</td>\n",
              "      <td>440.355788</td>\n",
              "      <td>31.997433</td>\n",
              "    </tr>\n",
              "    <tr>\n",
              "      <th>4</th>\n",
              "      <td>2014-09-21</td>\n",
              "      <td>398.821014</td>\n",
              "      <td>26580100</td>\n",
              "      <td>417.462572</td>\n",
              "      <td>434.817818</td>\n",
              "      <td>31.997433</td>\n",
              "    </tr>\n",
              "  </tbody>\n",
              "</table>\n",
              "</div>"
            ],
            "text/plain": [
              "          ds           y    Volume       SMA_7      EMA_14     RSI_14\n",
              "0 2014-09-17  457.334015  21056800  417.462572  457.334015  31.997433\n",
              "1 2014-09-18  424.440002  34483200  417.462572  452.948147  31.997433\n",
              "2 2014-09-19  394.795990  37919700  417.462572  445.194526  31.997433\n",
              "3 2014-09-20  408.903992  36863600  417.462572  440.355788  31.997433\n",
              "4 2014-09-21  398.821014  26580100  417.462572  434.817818  31.997433"
            ]
          },
          "execution_count": 61,
          "metadata": {},
          "output_type": "execute_result"
        }
      ],
      "source": [
        "# Example: Creating a 7-day Simple Moving Average (SMA)\n",
        "df['SMA_7'] = df['Close'].rolling(window=7).mean()\n",
        "\n",
        "# Example: 14-day EMA\n",
        "df['EMA_14'] = df['Close'].ewm(span=14, adjust=False).mean()\n",
        "\n",
        "# Example: RSI (14 days)\n",
        "def compute_rsi(series, window=14):\n",
        "    delta = series.diff()\n",
        "    gain = (delta.where(delta > 0, 0.0)).rolling(window=window).mean()\n",
        "    loss = (-delta.where(delta < 0, 0.0)).rolling(window=window).mean()\n",
        "    rs = gain / (loss + 1e-8)\n",
        "    return 100.0 - (100.0 / (1.0 + rs))\n",
        "\n",
        "df['RSI_14'] = compute_rsi(df['Close'], 14)\n",
        "\n",
        "# We'll fill initial NAs caused by rolling with the next valid (or just drop them).\n",
        "df.fillna(method='bfill', inplace=True)\n",
        "\n",
        "# Let's keep the following features\n",
        "# 1) Close price\n",
        "# 2) Volume\n",
        "# 3) SMA_7\n",
        "# 4) EMA_14\n",
        "# 5) RSI_14\n",
        "feature_cols = ['Date', 'Close', 'Volume', 'SMA_7', 'EMA_14', 'RSI_14']\n",
        "\n",
        "df_features = df[feature_cols].copy()\n",
        "\n",
        "# renaming to match with NeuralProphet's requirements\n",
        "df_features.rename(columns={'Date': 'ds', 'Close': 'y'}, inplace=True)\n",
        "df_features.head()"
      ]
    },
    {
      "cell_type": "markdown",
      "metadata": {
        "id": "dzGtGOoK1Ijh"
      },
      "source": [
        "# 3. Train-Val-Test Split\n",
        "## We'll do:\n",
        "## - **Train**: 2014 to ~2020 (first 80% of data)\n",
        "## - **Validation**: next 10% of data\n",
        "## - **Test**: final 10%\n"
      ]
    },
    {
      "cell_type": "code",
      "execution_count": null,
      "metadata": {
        "colab": {
          "base_uri": "https://localhost:8080/"
        },
        "id": "zj6PfTI51uIm",
        "outputId": "4578cfca-9e98-4f48-8a08-031f52eb4820"
      },
      "outputs": [
        {
          "name": "stdout",
          "output_type": "stream",
          "text": [
            "Train set: (2582, 6)\n",
            "Val set:   (322, 6)\n",
            "Test set:  (324, 6)\n"
          ]
        }
      ],
      "source": [
        "# Determine number of samples in dataset\n",
        "n_samples = len(df_features)\n",
        "\n",
        "# split dataset into training, val, and test\n",
        "train_size = int(n_samples * 0.8)\n",
        "val_size = int(n_samples * 0.1)\n",
        "test_size = n_samples - train_size - val_size\n",
        "\n",
        "# Create train, validation, and test datasets\n",
        "train_df = df_features.iloc[:train_size]\n",
        "val_df   = df_features.iloc[train_size:train_size+val_size]\n",
        "test_df  = df_features.iloc[train_size+val_size:]\n",
        "\n",
        "print(\"Train set:\", train_df.shape)\n",
        "print(\"Val set:  \", val_df.shape)\n",
        "print(\"Test set: \", test_df.shape)"
      ]
    },
    {
      "cell_type": "markdown",
      "metadata": {
        "id": "e_4_AOo62ORt"
      },
      "source": [
        "# 4. Scaling the data\n",
        "## We'll use 'MinMaxScaler' to scale the 'Close' prices to (0, 1) range for easier neural network training"
      ]
    },
    {
      "cell_type": "code",
      "execution_count": null,
      "metadata": {
        "id": "kZ39hfPyIo_6",
        "outputId": "f42d2c92-58e8-4257-fd3a-acc402774903"
      },
      "outputs": [
        {
          "name": "stdout",
          "output_type": "stream",
          "text": [
            "Min of train data after scaling: y         0.0\n",
            "Volume    0.0\n",
            "SMA_7     0.0\n",
            "EMA_14    0.0\n",
            "RSI_14    0.0\n",
            "dtype: float64\n",
            "Max of train data after scaling: y         1.0\n",
            "Volume    1.0\n",
            "SMA_7     1.0\n",
            "EMA_14    1.0\n",
            "RSI_14    1.0\n",
            "dtype: float64\n"
          ]
        },
        {
          "data": {
            "text/html": [
              "<div>\n",
              "<style scoped>\n",
              "    .dataframe tbody tr th:only-of-type {\n",
              "        vertical-align: middle;\n",
              "    }\n",
              "\n",
              "    .dataframe tbody tr th {\n",
              "        vertical-align: top;\n",
              "    }\n",
              "\n",
              "    .dataframe thead th {\n",
              "        text-align: right;\n",
              "    }\n",
              "</style>\n",
              "<table border=\"1\" class=\"dataframe\">\n",
              "  <thead>\n",
              "    <tr style=\"text-align: right;\">\n",
              "      <th></th>\n",
              "      <th>y</th>\n",
              "      <th>Volume</th>\n",
              "      <th>SMA_7</th>\n",
              "      <th>EMA_14</th>\n",
              "      <th>RSI_14</th>\n",
              "      <th>ds</th>\n",
              "    </tr>\n",
              "  </thead>\n",
              "  <tbody>\n",
              "    <tr>\n",
              "      <th>0</th>\n",
              "      <td>0.004409</td>\n",
              "      <td>0.000043</td>\n",
              "      <td>0.003459</td>\n",
              "      <td>0.003857</td>\n",
              "      <td>0.287147</td>\n",
              "      <td>2014-09-17</td>\n",
              "    </tr>\n",
              "    <tr>\n",
              "      <th>1</th>\n",
              "      <td>0.003890</td>\n",
              "      <td>0.000081</td>\n",
              "      <td>0.003459</td>\n",
              "      <td>0.003784</td>\n",
              "      <td>0.287147</td>\n",
              "      <td>2014-09-18</td>\n",
              "    </tr>\n",
              "    <tr>\n",
              "      <th>2</th>\n",
              "      <td>0.003422</td>\n",
              "      <td>0.000091</td>\n",
              "      <td>0.003459</td>\n",
              "      <td>0.003655</td>\n",
              "      <td>0.287147</td>\n",
              "      <td>2014-09-19</td>\n",
              "    </tr>\n",
              "    <tr>\n",
              "      <th>3</th>\n",
              "      <td>0.003645</td>\n",
              "      <td>0.000088</td>\n",
              "      <td>0.003459</td>\n",
              "      <td>0.003574</td>\n",
              "      <td>0.287147</td>\n",
              "      <td>2014-09-20</td>\n",
              "    </tr>\n",
              "    <tr>\n",
              "      <th>4</th>\n",
              "      <td>0.003485</td>\n",
              "      <td>0.000059</td>\n",
              "      <td>0.003459</td>\n",
              "      <td>0.003482</td>\n",
              "      <td>0.287147</td>\n",
              "      <td>2014-09-21</td>\n",
              "    </tr>\n",
              "  </tbody>\n",
              "</table>\n",
              "</div>"
            ],
            "text/plain": [
              "          y    Volume     SMA_7    EMA_14    RSI_14         ds\n",
              "0  0.004409  0.000043  0.003459  0.003857  0.287147 2014-09-17\n",
              "1  0.003890  0.000081  0.003459  0.003784  0.287147 2014-09-18\n",
              "2  0.003422  0.000091  0.003459  0.003655  0.287147 2014-09-19\n",
              "3  0.003645  0.000088  0.003459  0.003574  0.287147 2014-09-20\n",
              "4  0.003485  0.000059  0.003459  0.003482  0.287147 2014-09-21"
            ]
          },
          "metadata": {},
          "output_type": "display_data"
        }
      ],
      "source": [
        "# columns that we want to scale\n",
        "non_date_cols = ['y', 'Volume', 'SMA_7', 'EMA_14', 'RSI_14']\n",
        "\n",
        "# initialze minmaxscaler and fit to training data\n",
        "scaler = MinMaxScaler()\n",
        "scaler.fit(train_df[non_date_cols])\n",
        "\n",
        "# transform train, validation, and test sets using the fitted scaler\n",
        "\n",
        "train_scaled = scaler.transform(train_df[non_date_cols])\n",
        "val_scaled   = scaler.transform(val_df[non_date_cols])\n",
        "test_scaled  = scaler.transform(test_df[non_date_cols])\n",
        "\n",
        "# Convert back to DataFrame for clarity\n",
        "train_scaled_df = pd.DataFrame(train_scaled,\n",
        "                               columns=non_date_cols,\n",
        "                               index=train_df.index)\n",
        "val_scaled_df   = pd.DataFrame(val_scaled,\n",
        "                               columns=non_date_cols,\n",
        "                               index=val_df.index)\n",
        "test_scaled_df  = pd.DataFrame(test_scaled,\n",
        "                               columns=non_date_cols,\n",
        "                               index=test_df.index)\n",
        "\n",
        "# Check range\n",
        "print(\"Min of train data after scaling:\", train_scaled_df.min())\n",
        "print(\"Max of train data after scaling:\", train_scaled_df.max())\n",
        "\n",
        "# Add the 'ds' column back to the scaled dataframes\n",
        "train_scaled_df['ds'] = train_df['ds']\n",
        "val_scaled_df['ds'] = val_df['ds']\n",
        "test_scaled_df['ds'] = test_df['ds']\n",
        "\n",
        "display(train_scaled_df.head())"
      ]
    },
    {
      "cell_type": "markdown",
      "metadata": {
        "id": "QIGZI_4b03mp"
      },
      "source": [
        "# 5. Defining the Neural Prophet Model\n",
        "\n",
        "# **Hyperparameters**:\n",
        "## - `trend_reg=0.1`: Smaller trend allows for the model to capture more detailed trend variations, which is important for day to day bitcoin price changes.\n",
        "## - `learning_rate=0.01`\n",
        "## - `batch_size=16`\n",
        "## - `epochs=60`\n",
        "## - `n_lags=10`: Allows the model to look at data 10 time steps behind, having more data to base the current day's prediction on.\n",
        "\n",
        "# **Oher Notes**:\n",
        "## - Using `add_future_regressor` to have the model base it's prediction on both the date and the other attributes\n"
      ]
    },
    {
      "cell_type": "code",
      "execution_count": null,
      "metadata": {
        "colab": {
          "referenced_widgets": [
            "4c9f046fdd1f41638b59a6111fef96ce",
            "64da91f24a9a451c975dd9e98e94b912",
            "b9056077bfcb4d9da4e2879435faf2bb",
            "c89b275adc444d83b02716f0be146163",
            "c8cfdcf3ea3641a681cf95d9d00849d1",
            "fe7e3d26fdf7408b8a349890e0a960f9",
            "b5c5c4c8f1ba4a2cb4a1423d97ebbea2",
            "d6180aef4a99419c8bb393c983bf195b",
            "03280e15bb1047d0b2bba5140ff0da8d",
            "2466ddcec20745b7a4ca8f6f51b42841",
            "be47c8386ef24344b377a575a9f410f2",
            "74be3e476b1946088191def1c23e3a38",
            "1136f4b558f94bc0b8cfc399230ef304",
            "eaf5d9e8f5a34d0f8af1b099cde8629f",
            "ea52bf48c33b49c1aa162ca4a3e47ef8",
            "d5e0eccc920a4a4a8049c32b7f73090a",
            "d96783f13f9c4e118c18395c0de0d7f4",
            "65f9489c19c54ec2a108f5adc8b1658e",
            "33c560edc46444acba0ccea9d24b1cf1",
            "dd785bdcd199451b9a33325d1843ddca",
            "dcd0ba3884f84f768d59b8ade49698b2",
            "e5c3322677cd44039f8deb66ec5424ea",
            "5070266e2df1453a96283fc8fd167dbb",
            "3ace33c5556b41be923c7b4d199400f4",
            "649d0019956c46ceb258cfc770400fc5",
            "4fef9cca21f34f43855c2ebae1a815ce",
            "2a1e4332b1fd4e9793ba4d60b34dbd4b",
            "d15090a71b5444dc8bc6650f60ddf297",
            "fab914b5ab50462497b4dc1565638af7",
            "d3f30fe08b2848c5aa7df499ba27fc7c",
            "2938daf3f6764f31b693104b1e3793b2",
            "4bf89101282f420a83a36c47da3b3701",
            "cf52bd7cacf74ca8a892950f5d81d4f0",
            "b367a888e25c42fd883efafb1ff7b876",
            "9550cd1ecc9f49da8bdca9d4aed8188a",
            "99c3a88cba7044eda03de1d0320a9c45",
            "696b103a0ccd450483b3dabc28a8bc8d",
            "a6b47ffe623048739b443d7a3c4aba2d",
            "79f2ae680d7d4fcf8b8e912559c1f2a4",
            "d3d762038c9542dd94e3c12c4c4349c4",
            "f0d733ed0d5f4f0cb7dcd8224ba8b5ea",
            "1b48a6596f154041b371aedf00622aff",
            "35e9a7c48fce4dab912d4a8726304ef2",
            "8ab18eb182ae4c46915d6091701b8fbb",
            "22ed46d65399412d90aac53e1bbaef16",
            "8d34f411c9dc4cb3b9a2e4f72261ed23",
            "db36eb55211b4d82991defb4c863c59a",
            "098ca22d89f34a2e9e74be3066ac4940",
            "fabe4292c56e49ffbbacfad0db7a36de",
            "f6ed93bd69a64fd282d9c876feecd5f4",
            "350cb2e0177e463aad7b07d7d4f4425f",
            "afe2b357280e4418ae4f8ae7421823aa",
            "65230853c5ec4c5680bb8be355481f4a",
            "6d431d975b0d49c392836e5c4ab7489c",
            "27529b33f26d445c83f445d16223963c",
            "97615300ed0d4443a22a86ab65432eb8",
            "ac00b509a6254e989cb7781929915254",
            "ac92688dfb594d8597a336ba795ca812",
            "32d72ed17f2c440f91ab00141510f44b",
            "8e163ca45a08444bb2a27bd769560ac4",
            "019268fac9c34ffaae9c561f6b5a9e9d"
          ]
        },
        "id": "qfiaC_Y-Io_6",
        "outputId": "3b535d6c-5afe-4624-ade7-66351fa6fa6a"
      },
      "outputs": [
        {
          "name": "stderr",
          "output_type": "stream",
          "text": [
            "WARNING - (py.warnings._showwarnmsg) - /Users/stanleyko/git/coursework/ecs171/venv/lib/python3.12/site-packages/neuralprophet/df_utils.py:1152: FutureWarning:\n",
            "\n",
            "Series.view is deprecated and will be removed in a future version. Use ``astype`` as an alternative to change the dtype.\n",
            "\n",
            "\n",
            "WARNING - (py.warnings._showwarnmsg) - /Users/stanleyko/git/coursework/ecs171/venv/lib/python3.12/site-packages/pytorch_lightning/trainer/setup.py:201: UserWarning:\n",
            "\n",
            "MPS available but not used. Set `accelerator` and `devices` using `Trainer(accelerator='mps', devices=1)`.\n",
            "\n",
            "\n"
          ]
        },
        {
          "data": {
            "application/vnd.jupyter.widget-view+json": {
              "model_id": "4c9f046fdd1f41638b59a6111fef96ce",
              "version_major": 2,
              "version_minor": 0
            },
            "text/plain": [
              "Training: 0it [00:00, ?it/s]"
            ]
          },
          "metadata": {},
          "output_type": "display_data"
        },
        {
          "data": {
            "application/vnd.jupyter.widget-view+json": {
              "model_id": "64da91f24a9a451c975dd9e98e94b912",
              "version_major": 2,
              "version_minor": 0
            },
            "text/plain": [
              "Validation: 0it [00:00, ?it/s]"
            ]
          },
          "metadata": {},
          "output_type": "display_data"
        },
        {
          "data": {
            "application/vnd.jupyter.widget-view+json": {
              "model_id": "b9056077bfcb4d9da4e2879435faf2bb",
              "version_major": 2,
              "version_minor": 0
            },
            "text/plain": [
              "Validation: 0it [00:00, ?it/s]"
            ]
          },
          "metadata": {},
          "output_type": "display_data"
        },
        {
          "data": {
            "application/vnd.jupyter.widget-view+json": {
              "model_id": "c89b275adc444d83b02716f0be146163",
              "version_major": 2,
              "version_minor": 0
            },
            "text/plain": [
              "Validation: 0it [00:00, ?it/s]"
            ]
          },
          "metadata": {},
          "output_type": "display_data"
        },
        {
          "data": {
            "application/vnd.jupyter.widget-view+json": {
              "model_id": "c8cfdcf3ea3641a681cf95d9d00849d1",
              "version_major": 2,
              "version_minor": 0
            },
            "text/plain": [
              "Validation: 0it [00:00, ?it/s]"
            ]
          },
          "metadata": {},
          "output_type": "display_data"
        },
        {
          "data": {
            "application/vnd.jupyter.widget-view+json": {
              "model_id": "fe7e3d26fdf7408b8a349890e0a960f9",
              "version_major": 2,
              "version_minor": 0
            },
            "text/plain": [
              "Validation: 0it [00:00, ?it/s]"
            ]
          },
          "metadata": {},
          "output_type": "display_data"
        },
        {
          "data": {
            "application/vnd.jupyter.widget-view+json": {
              "model_id": "b5c5c4c8f1ba4a2cb4a1423d97ebbea2",
              "version_major": 2,
              "version_minor": 0
            },
            "text/plain": [
              "Validation: 0it [00:00, ?it/s]"
            ]
          },
          "metadata": {},
          "output_type": "display_data"
        },
        {
          "data": {
            "application/vnd.jupyter.widget-view+json": {
              "model_id": "d6180aef4a99419c8bb393c983bf195b",
              "version_major": 2,
              "version_minor": 0
            },
            "text/plain": [
              "Validation: 0it [00:00, ?it/s]"
            ]
          },
          "metadata": {},
          "output_type": "display_data"
        },
        {
          "data": {
            "application/vnd.jupyter.widget-view+json": {
              "model_id": "03280e15bb1047d0b2bba5140ff0da8d",
              "version_major": 2,
              "version_minor": 0
            },
            "text/plain": [
              "Validation: 0it [00:00, ?it/s]"
            ]
          },
          "metadata": {},
          "output_type": "display_data"
        },
        {
          "data": {
            "application/vnd.jupyter.widget-view+json": {
              "model_id": "2466ddcec20745b7a4ca8f6f51b42841",
              "version_major": 2,
              "version_minor": 0
            },
            "text/plain": [
              "Validation: 0it [00:00, ?it/s]"
            ]
          },
          "metadata": {},
          "output_type": "display_data"
        },
        {
          "data": {
            "application/vnd.jupyter.widget-view+json": {
              "model_id": "be47c8386ef24344b377a575a9f410f2",
              "version_major": 2,
              "version_minor": 0
            },
            "text/plain": [
              "Validation: 0it [00:00, ?it/s]"
            ]
          },
          "metadata": {},
          "output_type": "display_data"
        },
        {
          "data": {
            "application/vnd.jupyter.widget-view+json": {
              "model_id": "74be3e476b1946088191def1c23e3a38",
              "version_major": 2,
              "version_minor": 0
            },
            "text/plain": [
              "Validation: 0it [00:00, ?it/s]"
            ]
          },
          "metadata": {},
          "output_type": "display_data"
        },
        {
          "data": {
            "application/vnd.jupyter.widget-view+json": {
              "model_id": "1136f4b558f94bc0b8cfc399230ef304",
              "version_major": 2,
              "version_minor": 0
            },
            "text/plain": [
              "Validation: 0it [00:00, ?it/s]"
            ]
          },
          "metadata": {},
          "output_type": "display_data"
        },
        {
          "data": {
            "application/vnd.jupyter.widget-view+json": {
              "model_id": "eaf5d9e8f5a34d0f8af1b099cde8629f",
              "version_major": 2,
              "version_minor": 0
            },
            "text/plain": [
              "Validation: 0it [00:00, ?it/s]"
            ]
          },
          "metadata": {},
          "output_type": "display_data"
        },
        {
          "data": {
            "application/vnd.jupyter.widget-view+json": {
              "model_id": "ea52bf48c33b49c1aa162ca4a3e47ef8",
              "version_major": 2,
              "version_minor": 0
            },
            "text/plain": [
              "Validation: 0it [00:00, ?it/s]"
            ]
          },
          "metadata": {},
          "output_type": "display_data"
        },
        {
          "data": {
            "application/vnd.jupyter.widget-view+json": {
              "model_id": "d5e0eccc920a4a4a8049c32b7f73090a",
              "version_major": 2,
              "version_minor": 0
            },
            "text/plain": [
              "Validation: 0it [00:00, ?it/s]"
            ]
          },
          "metadata": {},
          "output_type": "display_data"
        },
        {
          "data": {
            "application/vnd.jupyter.widget-view+json": {
              "model_id": "d96783f13f9c4e118c18395c0de0d7f4",
              "version_major": 2,
              "version_minor": 0
            },
            "text/plain": [
              "Validation: 0it [00:00, ?it/s]"
            ]
          },
          "metadata": {},
          "output_type": "display_data"
        },
        {
          "data": {
            "application/vnd.jupyter.widget-view+json": {
              "model_id": "65f9489c19c54ec2a108f5adc8b1658e",
              "version_major": 2,
              "version_minor": 0
            },
            "text/plain": [
              "Validation: 0it [00:00, ?it/s]"
            ]
          },
          "metadata": {},
          "output_type": "display_data"
        },
        {
          "data": {
            "application/vnd.jupyter.widget-view+json": {
              "model_id": "33c560edc46444acba0ccea9d24b1cf1",
              "version_major": 2,
              "version_minor": 0
            },
            "text/plain": [
              "Validation: 0it [00:00, ?it/s]"
            ]
          },
          "metadata": {},
          "output_type": "display_data"
        },
        {
          "data": {
            "application/vnd.jupyter.widget-view+json": {
              "model_id": "dd785bdcd199451b9a33325d1843ddca",
              "version_major": 2,
              "version_minor": 0
            },
            "text/plain": [
              "Validation: 0it [00:00, ?it/s]"
            ]
          },
          "metadata": {},
          "output_type": "display_data"
        },
        {
          "data": {
            "application/vnd.jupyter.widget-view+json": {
              "model_id": "dcd0ba3884f84f768d59b8ade49698b2",
              "version_major": 2,
              "version_minor": 0
            },
            "text/plain": [
              "Validation: 0it [00:00, ?it/s]"
            ]
          },
          "metadata": {},
          "output_type": "display_data"
        },
        {
          "data": {
            "application/vnd.jupyter.widget-view+json": {
              "model_id": "e5c3322677cd44039f8deb66ec5424ea",
              "version_major": 2,
              "version_minor": 0
            },
            "text/plain": [
              "Validation: 0it [00:00, ?it/s]"
            ]
          },
          "metadata": {},
          "output_type": "display_data"
        },
        {
          "data": {
            "application/vnd.jupyter.widget-view+json": {
              "model_id": "5070266e2df1453a96283fc8fd167dbb",
              "version_major": 2,
              "version_minor": 0
            },
            "text/plain": [
              "Validation: 0it [00:00, ?it/s]"
            ]
          },
          "metadata": {},
          "output_type": "display_data"
        },
        {
          "data": {
            "application/vnd.jupyter.widget-view+json": {
              "model_id": "3ace33c5556b41be923c7b4d199400f4",
              "version_major": 2,
              "version_minor": 0
            },
            "text/plain": [
              "Validation: 0it [00:00, ?it/s]"
            ]
          },
          "metadata": {},
          "output_type": "display_data"
        },
        {
          "data": {
            "application/vnd.jupyter.widget-view+json": {
              "model_id": "649d0019956c46ceb258cfc770400fc5",
              "version_major": 2,
              "version_minor": 0
            },
            "text/plain": [
              "Validation: 0it [00:00, ?it/s]"
            ]
          },
          "metadata": {},
          "output_type": "display_data"
        },
        {
          "data": {
            "application/vnd.jupyter.widget-view+json": {
              "model_id": "4fef9cca21f34f43855c2ebae1a815ce",
              "version_major": 2,
              "version_minor": 0
            },
            "text/plain": [
              "Validation: 0it [00:00, ?it/s]"
            ]
          },
          "metadata": {},
          "output_type": "display_data"
        },
        {
          "data": {
            "application/vnd.jupyter.widget-view+json": {
              "model_id": "2a1e4332b1fd4e9793ba4d60b34dbd4b",
              "version_major": 2,
              "version_minor": 0
            },
            "text/plain": [
              "Validation: 0it [00:00, ?it/s]"
            ]
          },
          "metadata": {},
          "output_type": "display_data"
        },
        {
          "data": {
            "application/vnd.jupyter.widget-view+json": {
              "model_id": "d15090a71b5444dc8bc6650f60ddf297",
              "version_major": 2,
              "version_minor": 0
            },
            "text/plain": [
              "Validation: 0it [00:00, ?it/s]"
            ]
          },
          "metadata": {},
          "output_type": "display_data"
        },
        {
          "data": {
            "application/vnd.jupyter.widget-view+json": {
              "model_id": "fab914b5ab50462497b4dc1565638af7",
              "version_major": 2,
              "version_minor": 0
            },
            "text/plain": [
              "Validation: 0it [00:00, ?it/s]"
            ]
          },
          "metadata": {},
          "output_type": "display_data"
        },
        {
          "data": {
            "application/vnd.jupyter.widget-view+json": {
              "model_id": "d3f30fe08b2848c5aa7df499ba27fc7c",
              "version_major": 2,
              "version_minor": 0
            },
            "text/plain": [
              "Validation: 0it [00:00, ?it/s]"
            ]
          },
          "metadata": {},
          "output_type": "display_data"
        },
        {
          "data": {
            "application/vnd.jupyter.widget-view+json": {
              "model_id": "2938daf3f6764f31b693104b1e3793b2",
              "version_major": 2,
              "version_minor": 0
            },
            "text/plain": [
              "Validation: 0it [00:00, ?it/s]"
            ]
          },
          "metadata": {},
          "output_type": "display_data"
        },
        {
          "data": {
            "application/vnd.jupyter.widget-view+json": {
              "model_id": "4bf89101282f420a83a36c47da3b3701",
              "version_major": 2,
              "version_minor": 0
            },
            "text/plain": [
              "Validation: 0it [00:00, ?it/s]"
            ]
          },
          "metadata": {},
          "output_type": "display_data"
        },
        {
          "data": {
            "application/vnd.jupyter.widget-view+json": {
              "model_id": "cf52bd7cacf74ca8a892950f5d81d4f0",
              "version_major": 2,
              "version_minor": 0
            },
            "text/plain": [
              "Validation: 0it [00:00, ?it/s]"
            ]
          },
          "metadata": {},
          "output_type": "display_data"
        },
        {
          "data": {
            "application/vnd.jupyter.widget-view+json": {
              "model_id": "b367a888e25c42fd883efafb1ff7b876",
              "version_major": 2,
              "version_minor": 0
            },
            "text/plain": [
              "Validation: 0it [00:00, ?it/s]"
            ]
          },
          "metadata": {},
          "output_type": "display_data"
        },
        {
          "data": {
            "application/vnd.jupyter.widget-view+json": {
              "model_id": "9550cd1ecc9f49da8bdca9d4aed8188a",
              "version_major": 2,
              "version_minor": 0
            },
            "text/plain": [
              "Validation: 0it [00:00, ?it/s]"
            ]
          },
          "metadata": {},
          "output_type": "display_data"
        },
        {
          "data": {
            "application/vnd.jupyter.widget-view+json": {
              "model_id": "99c3a88cba7044eda03de1d0320a9c45",
              "version_major": 2,
              "version_minor": 0
            },
            "text/plain": [
              "Validation: 0it [00:00, ?it/s]"
            ]
          },
          "metadata": {},
          "output_type": "display_data"
        },
        {
          "data": {
            "application/vnd.jupyter.widget-view+json": {
              "model_id": "696b103a0ccd450483b3dabc28a8bc8d",
              "version_major": 2,
              "version_minor": 0
            },
            "text/plain": [
              "Validation: 0it [00:00, ?it/s]"
            ]
          },
          "metadata": {},
          "output_type": "display_data"
        },
        {
          "data": {
            "application/vnd.jupyter.widget-view+json": {
              "model_id": "a6b47ffe623048739b443d7a3c4aba2d",
              "version_major": 2,
              "version_minor": 0
            },
            "text/plain": [
              "Validation: 0it [00:00, ?it/s]"
            ]
          },
          "metadata": {},
          "output_type": "display_data"
        },
        {
          "data": {
            "application/vnd.jupyter.widget-view+json": {
              "model_id": "79f2ae680d7d4fcf8b8e912559c1f2a4",
              "version_major": 2,
              "version_minor": 0
            },
            "text/plain": [
              "Validation: 0it [00:00, ?it/s]"
            ]
          },
          "metadata": {},
          "output_type": "display_data"
        },
        {
          "data": {
            "application/vnd.jupyter.widget-view+json": {
              "model_id": "d3d762038c9542dd94e3c12c4c4349c4",
              "version_major": 2,
              "version_minor": 0
            },
            "text/plain": [
              "Validation: 0it [00:00, ?it/s]"
            ]
          },
          "metadata": {},
          "output_type": "display_data"
        },
        {
          "data": {
            "application/vnd.jupyter.widget-view+json": {
              "model_id": "f0d733ed0d5f4f0cb7dcd8224ba8b5ea",
              "version_major": 2,
              "version_minor": 0
            },
            "text/plain": [
              "Validation: 0it [00:00, ?it/s]"
            ]
          },
          "metadata": {},
          "output_type": "display_data"
        },
        {
          "data": {
            "application/vnd.jupyter.widget-view+json": {
              "model_id": "1b48a6596f154041b371aedf00622aff",
              "version_major": 2,
              "version_minor": 0
            },
            "text/plain": [
              "Validation: 0it [00:00, ?it/s]"
            ]
          },
          "metadata": {},
          "output_type": "display_data"
        },
        {
          "data": {
            "application/vnd.jupyter.widget-view+json": {
              "model_id": "35e9a7c48fce4dab912d4a8726304ef2",
              "version_major": 2,
              "version_minor": 0
            },
            "text/plain": [
              "Validation: 0it [00:00, ?it/s]"
            ]
          },
          "metadata": {},
          "output_type": "display_data"
        },
        {
          "data": {
            "application/vnd.jupyter.widget-view+json": {
              "model_id": "8ab18eb182ae4c46915d6091701b8fbb",
              "version_major": 2,
              "version_minor": 0
            },
            "text/plain": [
              "Validation: 0it [00:00, ?it/s]"
            ]
          },
          "metadata": {},
          "output_type": "display_data"
        },
        {
          "data": {
            "application/vnd.jupyter.widget-view+json": {
              "model_id": "22ed46d65399412d90aac53e1bbaef16",
              "version_major": 2,
              "version_minor": 0
            },
            "text/plain": [
              "Validation: 0it [00:00, ?it/s]"
            ]
          },
          "metadata": {},
          "output_type": "display_data"
        },
        {
          "data": {
            "application/vnd.jupyter.widget-view+json": {
              "model_id": "8d34f411c9dc4cb3b9a2e4f72261ed23",
              "version_major": 2,
              "version_minor": 0
            },
            "text/plain": [
              "Validation: 0it [00:00, ?it/s]"
            ]
          },
          "metadata": {},
          "output_type": "display_data"
        },
        {
          "data": {
            "application/vnd.jupyter.widget-view+json": {
              "model_id": "db36eb55211b4d82991defb4c863c59a",
              "version_major": 2,
              "version_minor": 0
            },
            "text/plain": [
              "Validation: 0it [00:00, ?it/s]"
            ]
          },
          "metadata": {},
          "output_type": "display_data"
        },
        {
          "data": {
            "application/vnd.jupyter.widget-view+json": {
              "model_id": "098ca22d89f34a2e9e74be3066ac4940",
              "version_major": 2,
              "version_minor": 0
            },
            "text/plain": [
              "Validation: 0it [00:00, ?it/s]"
            ]
          },
          "metadata": {},
          "output_type": "display_data"
        },
        {
          "data": {
            "application/vnd.jupyter.widget-view+json": {
              "model_id": "fabe4292c56e49ffbbacfad0db7a36de",
              "version_major": 2,
              "version_minor": 0
            },
            "text/plain": [
              "Validation: 0it [00:00, ?it/s]"
            ]
          },
          "metadata": {},
          "output_type": "display_data"
        },
        {
          "data": {
            "application/vnd.jupyter.widget-view+json": {
              "model_id": "f6ed93bd69a64fd282d9c876feecd5f4",
              "version_major": 2,
              "version_minor": 0
            },
            "text/plain": [
              "Validation: 0it [00:00, ?it/s]"
            ]
          },
          "metadata": {},
          "output_type": "display_data"
        },
        {
          "data": {
            "application/vnd.jupyter.widget-view+json": {
              "model_id": "350cb2e0177e463aad7b07d7d4f4425f",
              "version_major": 2,
              "version_minor": 0
            },
            "text/plain": [
              "Validation: 0it [00:00, ?it/s]"
            ]
          },
          "metadata": {},
          "output_type": "display_data"
        },
        {
          "data": {
            "application/vnd.jupyter.widget-view+json": {
              "model_id": "afe2b357280e4418ae4f8ae7421823aa",
              "version_major": 2,
              "version_minor": 0
            },
            "text/plain": [
              "Validation: 0it [00:00, ?it/s]"
            ]
          },
          "metadata": {},
          "output_type": "display_data"
        },
        {
          "data": {
            "application/vnd.jupyter.widget-view+json": {
              "model_id": "65230853c5ec4c5680bb8be355481f4a",
              "version_major": 2,
              "version_minor": 0
            },
            "text/plain": [
              "Validation: 0it [00:00, ?it/s]"
            ]
          },
          "metadata": {},
          "output_type": "display_data"
        },
        {
          "data": {
            "application/vnd.jupyter.widget-view+json": {
              "model_id": "6d431d975b0d49c392836e5c4ab7489c",
              "version_major": 2,
              "version_minor": 0
            },
            "text/plain": [
              "Validation: 0it [00:00, ?it/s]"
            ]
          },
          "metadata": {},
          "output_type": "display_data"
        },
        {
          "data": {
            "application/vnd.jupyter.widget-view+json": {
              "model_id": "27529b33f26d445c83f445d16223963c",
              "version_major": 2,
              "version_minor": 0
            },
            "text/plain": [
              "Validation: 0it [00:00, ?it/s]"
            ]
          },
          "metadata": {},
          "output_type": "display_data"
        },
        {
          "data": {
            "application/vnd.jupyter.widget-view+json": {
              "model_id": "97615300ed0d4443a22a86ab65432eb8",
              "version_major": 2,
              "version_minor": 0
            },
            "text/plain": [
              "Validation: 0it [00:00, ?it/s]"
            ]
          },
          "metadata": {},
          "output_type": "display_data"
        },
        {
          "data": {
            "application/vnd.jupyter.widget-view+json": {
              "model_id": "ac00b509a6254e989cb7781929915254",
              "version_major": 2,
              "version_minor": 0
            },
            "text/plain": [
              "Validation: 0it [00:00, ?it/s]"
            ]
          },
          "metadata": {},
          "output_type": "display_data"
        },
        {
          "data": {
            "application/vnd.jupyter.widget-view+json": {
              "model_id": "ac92688dfb594d8597a336ba795ca812",
              "version_major": 2,
              "version_minor": 0
            },
            "text/plain": [
              "Validation: 0it [00:00, ?it/s]"
            ]
          },
          "metadata": {},
          "output_type": "display_data"
        },
        {
          "data": {
            "application/vnd.jupyter.widget-view+json": {
              "model_id": "32d72ed17f2c440f91ab00141510f44b",
              "version_major": 2,
              "version_minor": 0
            },
            "text/plain": [
              "Validation: 0it [00:00, ?it/s]"
            ]
          },
          "metadata": {},
          "output_type": "display_data"
        },
        {
          "data": {
            "application/vnd.jupyter.widget-view+json": {
              "model_id": "8e163ca45a08444bb2a27bd769560ac4",
              "version_major": 2,
              "version_minor": 0
            },
            "text/plain": [
              "Validation: 0it [00:00, ?it/s]"
            ]
          },
          "metadata": {},
          "output_type": "display_data"
        },
        {
          "data": {
            "application/vnd.jupyter.widget-view+json": {
              "model_id": "019268fac9c34ffaae9c561f6b5a9e9d",
              "version_major": 2,
              "version_minor": 0
            },
            "text/plain": [
              "Validation: 0it [00:00, ?it/s]"
            ]
          },
          "metadata": {},
          "output_type": "display_data"
        },
        {
          "data": {
            "text/html": [
              "<div>\n",
              "<style scoped>\n",
              "    .dataframe tbody tr th:only-of-type {\n",
              "        vertical-align: middle;\n",
              "    }\n",
              "\n",
              "    .dataframe tbody tr th {\n",
              "        vertical-align: top;\n",
              "    }\n",
              "\n",
              "    .dataframe thead th {\n",
              "        text-align: right;\n",
              "    }\n",
              "</style>\n",
              "<table border=\"1\" class=\"dataframe\">\n",
              "  <thead>\n",
              "    <tr style=\"text-align: right;\">\n",
              "      <th></th>\n",
              "      <th>MAE_val</th>\n",
              "      <th>RMSE_val</th>\n",
              "      <th>Loss_val</th>\n",
              "      <th>RegLoss_val</th>\n",
              "      <th>epoch</th>\n",
              "      <th>MAE</th>\n",
              "      <th>RMSE</th>\n",
              "      <th>Loss</th>\n",
              "      <th>RegLoss</th>\n",
              "    </tr>\n",
              "  </thead>\n",
              "  <tbody>\n",
              "    <tr>\n",
              "      <th>0</th>\n",
              "      <td>1.102155</td>\n",
              "      <td>1.288470</td>\n",
              "      <td>1.352599</td>\n",
              "      <td>0.0</td>\n",
              "      <td>0</td>\n",
              "      <td>0.992982</td>\n",
              "      <td>1.200467</td>\n",
              "      <td>0.933041</td>\n",
              "      <td>0.0</td>\n",
              "    </tr>\n",
              "    <tr>\n",
              "      <th>1</th>\n",
              "      <td>0.740203</td>\n",
              "      <td>0.900593</td>\n",
              "      <td>0.865056</td>\n",
              "      <td>0.0</td>\n",
              "      <td>1</td>\n",
              "      <td>0.586381</td>\n",
              "      <td>0.740211</td>\n",
              "      <td>0.524942</td>\n",
              "      <td>0.0</td>\n",
              "    </tr>\n",
              "    <tr>\n",
              "      <th>2</th>\n",
              "      <td>0.451800</td>\n",
              "      <td>0.558272</td>\n",
              "      <td>0.476085</td>\n",
              "      <td>0.0</td>\n",
              "      <td>2</td>\n",
              "      <td>0.291421</td>\n",
              "      <td>0.386605</td>\n",
              "      <td>0.229685</td>\n",
              "      <td>0.0</td>\n",
              "    </tr>\n",
              "    <tr>\n",
              "      <th>3</th>\n",
              "      <td>0.226459</td>\n",
              "      <td>0.267308</td>\n",
              "      <td>0.183194</td>\n",
              "      <td>0.0</td>\n",
              "      <td>3</td>\n",
              "      <td>0.135808</td>\n",
              "      <td>0.189629</td>\n",
              "      <td>0.081709</td>\n",
              "      <td>0.0</td>\n",
              "    </tr>\n",
              "    <tr>\n",
              "      <th>4</th>\n",
              "      <td>0.112902</td>\n",
              "      <td>0.134657</td>\n",
              "      <td>0.055036</td>\n",
              "      <td>0.0</td>\n",
              "      <td>4</td>\n",
              "      <td>0.070297</td>\n",
              "      <td>0.093401</td>\n",
              "      <td>0.024636</td>\n",
              "      <td>0.0</td>\n",
              "    </tr>\n",
              "    <tr>\n",
              "      <th>5</th>\n",
              "      <td>0.045878</td>\n",
              "      <td>0.059725</td>\n",
              "      <td>0.010988</td>\n",
              "      <td>0.0</td>\n",
              "      <td>5</td>\n",
              "      <td>0.036994</td>\n",
              "      <td>0.049629</td>\n",
              "      <td>0.006735</td>\n",
              "      <td>0.0</td>\n",
              "    </tr>\n",
              "    <tr>\n",
              "      <th>6</th>\n",
              "      <td>0.036350</td>\n",
              "      <td>0.049236</td>\n",
              "      <td>0.007467</td>\n",
              "      <td>0.0</td>\n",
              "      <td>6</td>\n",
              "      <td>0.028047</td>\n",
              "      <td>0.037186</td>\n",
              "      <td>0.003627</td>\n",
              "      <td>0.0</td>\n",
              "    </tr>\n",
              "    <tr>\n",
              "      <th>7</th>\n",
              "      <td>0.041583</td>\n",
              "      <td>0.053223</td>\n",
              "      <td>0.008726</td>\n",
              "      <td>0.0</td>\n",
              "      <td>7</td>\n",
              "      <td>0.025600</td>\n",
              "      <td>0.033996</td>\n",
              "      <td>0.003000</td>\n",
              "      <td>0.0</td>\n",
              "    </tr>\n",
              "    <tr>\n",
              "      <th>8</th>\n",
              "      <td>0.032978</td>\n",
              "      <td>0.043297</td>\n",
              "      <td>0.005775</td>\n",
              "      <td>0.0</td>\n",
              "      <td>8</td>\n",
              "      <td>0.025665</td>\n",
              "      <td>0.033149</td>\n",
              "      <td>0.002910</td>\n",
              "      <td>0.0</td>\n",
              "    </tr>\n",
              "    <tr>\n",
              "      <th>9</th>\n",
              "      <td>0.034599</td>\n",
              "      <td>0.045549</td>\n",
              "      <td>0.006391</td>\n",
              "      <td>0.0</td>\n",
              "      <td>9</td>\n",
              "      <td>0.025352</td>\n",
              "      <td>0.032403</td>\n",
              "      <td>0.002775</td>\n",
              "      <td>0.0</td>\n",
              "    </tr>\n",
              "    <tr>\n",
              "      <th>10</th>\n",
              "      <td>0.061136</td>\n",
              "      <td>0.072129</td>\n",
              "      <td>0.016026</td>\n",
              "      <td>0.0</td>\n",
              "      <td>10</td>\n",
              "      <td>0.024369</td>\n",
              "      <td>0.031372</td>\n",
              "      <td>0.002636</td>\n",
              "      <td>0.0</td>\n",
              "    </tr>\n",
              "    <tr>\n",
              "      <th>11</th>\n",
              "      <td>0.047699</td>\n",
              "      <td>0.061739</td>\n",
              "      <td>0.011741</td>\n",
              "      <td>0.0</td>\n",
              "      <td>11</td>\n",
              "      <td>0.025186</td>\n",
              "      <td>0.032650</td>\n",
              "      <td>0.002909</td>\n",
              "      <td>0.0</td>\n",
              "    </tr>\n",
              "    <tr>\n",
              "      <th>12</th>\n",
              "      <td>0.038079</td>\n",
              "      <td>0.049757</td>\n",
              "      <td>0.007626</td>\n",
              "      <td>0.0</td>\n",
              "      <td>12</td>\n",
              "      <td>0.023450</td>\n",
              "      <td>0.030202</td>\n",
              "      <td>0.002499</td>\n",
              "      <td>0.0</td>\n",
              "    </tr>\n",
              "    <tr>\n",
              "      <th>13</th>\n",
              "      <td>0.046235</td>\n",
              "      <td>0.054670</td>\n",
              "      <td>0.009207</td>\n",
              "      <td>0.0</td>\n",
              "      <td>13</td>\n",
              "      <td>0.024667</td>\n",
              "      <td>0.031818</td>\n",
              "      <td>0.002805</td>\n",
              "      <td>0.0</td>\n",
              "    </tr>\n",
              "    <tr>\n",
              "      <th>14</th>\n",
              "      <td>0.051371</td>\n",
              "      <td>0.062118</td>\n",
              "      <td>0.011886</td>\n",
              "      <td>0.0</td>\n",
              "      <td>14</td>\n",
              "      <td>0.023875</td>\n",
              "      <td>0.031251</td>\n",
              "      <td>0.002739</td>\n",
              "      <td>0.0</td>\n",
              "    </tr>\n",
              "    <tr>\n",
              "      <th>15</th>\n",
              "      <td>0.031318</td>\n",
              "      <td>0.039504</td>\n",
              "      <td>0.004807</td>\n",
              "      <td>0.0</td>\n",
              "      <td>15</td>\n",
              "      <td>0.022744</td>\n",
              "      <td>0.029606</td>\n",
              "      <td>0.002454</td>\n",
              "      <td>0.0</td>\n",
              "    </tr>\n",
              "    <tr>\n",
              "      <th>16</th>\n",
              "      <td>0.029394</td>\n",
              "      <td>0.037568</td>\n",
              "      <td>0.004347</td>\n",
              "      <td>0.0</td>\n",
              "      <td>16</td>\n",
              "      <td>0.021165</td>\n",
              "      <td>0.027774</td>\n",
              "      <td>0.002162</td>\n",
              "      <td>0.0</td>\n",
              "    </tr>\n",
              "    <tr>\n",
              "      <th>17</th>\n",
              "      <td>0.029654</td>\n",
              "      <td>0.037784</td>\n",
              "      <td>0.004398</td>\n",
              "      <td>0.0</td>\n",
              "      <td>17</td>\n",
              "      <td>0.020923</td>\n",
              "      <td>0.027544</td>\n",
              "      <td>0.002119</td>\n",
              "      <td>0.0</td>\n",
              "    </tr>\n",
              "    <tr>\n",
              "      <th>18</th>\n",
              "      <td>0.028543</td>\n",
              "      <td>0.037509</td>\n",
              "      <td>0.004334</td>\n",
              "      <td>0.0</td>\n",
              "      <td>18</td>\n",
              "      <td>0.019254</td>\n",
              "      <td>0.025338</td>\n",
              "      <td>0.001808</td>\n",
              "      <td>0.0</td>\n",
              "    </tr>\n",
              "    <tr>\n",
              "      <th>19</th>\n",
              "      <td>0.050276</td>\n",
              "      <td>0.059487</td>\n",
              "      <td>0.010901</td>\n",
              "      <td>0.0</td>\n",
              "      <td>19</td>\n",
              "      <td>0.018844</td>\n",
              "      <td>0.024634</td>\n",
              "      <td>0.001739</td>\n",
              "      <td>0.0</td>\n",
              "    </tr>\n",
              "    <tr>\n",
              "      <th>20</th>\n",
              "      <td>0.032844</td>\n",
              "      <td>0.040835</td>\n",
              "      <td>0.005137</td>\n",
              "      <td>0.0</td>\n",
              "      <td>20</td>\n",
              "      <td>0.017384</td>\n",
              "      <td>0.022894</td>\n",
              "      <td>0.001486</td>\n",
              "      <td>0.0</td>\n",
              "    </tr>\n",
              "    <tr>\n",
              "      <th>21</th>\n",
              "      <td>0.028097</td>\n",
              "      <td>0.035471</td>\n",
              "      <td>0.003876</td>\n",
              "      <td>0.0</td>\n",
              "      <td>21</td>\n",
              "      <td>0.015278</td>\n",
              "      <td>0.020358</td>\n",
              "      <td>0.001185</td>\n",
              "      <td>0.0</td>\n",
              "    </tr>\n",
              "    <tr>\n",
              "      <th>22</th>\n",
              "      <td>0.027658</td>\n",
              "      <td>0.034659</td>\n",
              "      <td>0.003700</td>\n",
              "      <td>0.0</td>\n",
              "      <td>22</td>\n",
              "      <td>0.016123</td>\n",
              "      <td>0.021026</td>\n",
              "      <td>0.001277</td>\n",
              "      <td>0.0</td>\n",
              "    </tr>\n",
              "    <tr>\n",
              "      <th>23</th>\n",
              "      <td>0.028821</td>\n",
              "      <td>0.036193</td>\n",
              "      <td>0.004035</td>\n",
              "      <td>0.0</td>\n",
              "      <td>23</td>\n",
              "      <td>0.014991</td>\n",
              "      <td>0.019774</td>\n",
              "      <td>0.001107</td>\n",
              "      <td>0.0</td>\n",
              "    </tr>\n",
              "    <tr>\n",
              "      <th>24</th>\n",
              "      <td>0.031511</td>\n",
              "      <td>0.038193</td>\n",
              "      <td>0.004493</td>\n",
              "      <td>0.0</td>\n",
              "      <td>24</td>\n",
              "      <td>0.013763</td>\n",
              "      <td>0.018103</td>\n",
              "      <td>0.000960</td>\n",
              "      <td>0.0</td>\n",
              "    </tr>\n",
              "    <tr>\n",
              "      <th>25</th>\n",
              "      <td>0.026434</td>\n",
              "      <td>0.033296</td>\n",
              "      <td>0.003415</td>\n",
              "      <td>0.0</td>\n",
              "      <td>25</td>\n",
              "      <td>0.012827</td>\n",
              "      <td>0.017201</td>\n",
              "      <td>0.000868</td>\n",
              "      <td>0.0</td>\n",
              "    </tr>\n",
              "    <tr>\n",
              "      <th>26</th>\n",
              "      <td>0.025927</td>\n",
              "      <td>0.032458</td>\n",
              "      <td>0.003245</td>\n",
              "      <td>0.0</td>\n",
              "      <td>26</td>\n",
              "      <td>0.011894</td>\n",
              "      <td>0.016293</td>\n",
              "      <td>0.000804</td>\n",
              "      <td>0.0</td>\n",
              "    </tr>\n",
              "    <tr>\n",
              "      <th>27</th>\n",
              "      <td>0.021476</td>\n",
              "      <td>0.027516</td>\n",
              "      <td>0.002332</td>\n",
              "      <td>0.0</td>\n",
              "      <td>27</td>\n",
              "      <td>0.011333</td>\n",
              "      <td>0.015438</td>\n",
              "      <td>0.000730</td>\n",
              "      <td>0.0</td>\n",
              "    </tr>\n",
              "    <tr>\n",
              "      <th>28</th>\n",
              "      <td>0.021975</td>\n",
              "      <td>0.028013</td>\n",
              "      <td>0.002417</td>\n",
              "      <td>0.0</td>\n",
              "      <td>28</td>\n",
              "      <td>0.011314</td>\n",
              "      <td>0.015371</td>\n",
              "      <td>0.000701</td>\n",
              "      <td>0.0</td>\n",
              "    </tr>\n",
              "    <tr>\n",
              "      <th>29</th>\n",
              "      <td>0.019735</td>\n",
              "      <td>0.025393</td>\n",
              "      <td>0.001986</td>\n",
              "      <td>0.0</td>\n",
              "      <td>29</td>\n",
              "      <td>0.010323</td>\n",
              "      <td>0.014318</td>\n",
              "      <td>0.000611</td>\n",
              "      <td>0.0</td>\n",
              "    </tr>\n",
              "    <tr>\n",
              "      <th>30</th>\n",
              "      <td>0.020152</td>\n",
              "      <td>0.026059</td>\n",
              "      <td>0.002092</td>\n",
              "      <td>0.0</td>\n",
              "      <td>30</td>\n",
              "      <td>0.009767</td>\n",
              "      <td>0.013762</td>\n",
              "      <td>0.000580</td>\n",
              "      <td>0.0</td>\n",
              "    </tr>\n",
              "    <tr>\n",
              "      <th>31</th>\n",
              "      <td>0.026540</td>\n",
              "      <td>0.032131</td>\n",
              "      <td>0.003180</td>\n",
              "      <td>0.0</td>\n",
              "      <td>31</td>\n",
              "      <td>0.009401</td>\n",
              "      <td>0.013192</td>\n",
              "      <td>0.000543</td>\n",
              "      <td>0.0</td>\n",
              "    </tr>\n",
              "    <tr>\n",
              "      <th>32</th>\n",
              "      <td>0.021867</td>\n",
              "      <td>0.027701</td>\n",
              "      <td>0.002364</td>\n",
              "      <td>0.0</td>\n",
              "      <td>32</td>\n",
              "      <td>0.009230</td>\n",
              "      <td>0.012976</td>\n",
              "      <td>0.000542</td>\n",
              "      <td>0.0</td>\n",
              "    </tr>\n",
              "    <tr>\n",
              "      <th>33</th>\n",
              "      <td>0.021984</td>\n",
              "      <td>0.027804</td>\n",
              "      <td>0.002381</td>\n",
              "      <td>0.0</td>\n",
              "      <td>33</td>\n",
              "      <td>0.008876</td>\n",
              "      <td>0.012564</td>\n",
              "      <td>0.000497</td>\n",
              "      <td>0.0</td>\n",
              "    </tr>\n",
              "    <tr>\n",
              "      <th>34</th>\n",
              "      <td>0.018781</td>\n",
              "      <td>0.024477</td>\n",
              "      <td>0.001846</td>\n",
              "      <td>0.0</td>\n",
              "      <td>34</td>\n",
              "      <td>0.008760</td>\n",
              "      <td>0.012476</td>\n",
              "      <td>0.000494</td>\n",
              "      <td>0.0</td>\n",
              "    </tr>\n",
              "    <tr>\n",
              "      <th>35</th>\n",
              "      <td>0.017381</td>\n",
              "      <td>0.022957</td>\n",
              "      <td>0.001623</td>\n",
              "      <td>0.0</td>\n",
              "      <td>35</td>\n",
              "      <td>0.008609</td>\n",
              "      <td>0.012245</td>\n",
              "      <td>0.000486</td>\n",
              "      <td>0.0</td>\n",
              "    </tr>\n",
              "    <tr>\n",
              "      <th>36</th>\n",
              "      <td>0.017666</td>\n",
              "      <td>0.023270</td>\n",
              "      <td>0.001668</td>\n",
              "      <td>0.0</td>\n",
              "      <td>36</td>\n",
              "      <td>0.008630</td>\n",
              "      <td>0.012255</td>\n",
              "      <td>0.000481</td>\n",
              "      <td>0.0</td>\n",
              "    </tr>\n",
              "    <tr>\n",
              "      <th>37</th>\n",
              "      <td>0.019071</td>\n",
              "      <td>0.024579</td>\n",
              "      <td>0.001861</td>\n",
              "      <td>0.0</td>\n",
              "      <td>37</td>\n",
              "      <td>0.008461</td>\n",
              "      <td>0.012052</td>\n",
              "      <td>0.000463</td>\n",
              "      <td>0.0</td>\n",
              "    </tr>\n",
              "    <tr>\n",
              "      <th>38</th>\n",
              "      <td>0.022909</td>\n",
              "      <td>0.028420</td>\n",
              "      <td>0.002488</td>\n",
              "      <td>0.0</td>\n",
              "      <td>38</td>\n",
              "      <td>0.008465</td>\n",
              "      <td>0.012041</td>\n",
              "      <td>0.000471</td>\n",
              "      <td>0.0</td>\n",
              "    </tr>\n",
              "    <tr>\n",
              "      <th>39</th>\n",
              "      <td>0.019219</td>\n",
              "      <td>0.024866</td>\n",
              "      <td>0.001905</td>\n",
              "      <td>0.0</td>\n",
              "      <td>39</td>\n",
              "      <td>0.008483</td>\n",
              "      <td>0.011998</td>\n",
              "      <td>0.000463</td>\n",
              "      <td>0.0</td>\n",
              "    </tr>\n",
              "    <tr>\n",
              "      <th>40</th>\n",
              "      <td>0.016928</td>\n",
              "      <td>0.022360</td>\n",
              "      <td>0.001540</td>\n",
              "      <td>0.0</td>\n",
              "      <td>40</td>\n",
              "      <td>0.008244</td>\n",
              "      <td>0.011859</td>\n",
              "      <td>0.000452</td>\n",
              "      <td>0.0</td>\n",
              "    </tr>\n",
              "    <tr>\n",
              "      <th>41</th>\n",
              "      <td>0.016585</td>\n",
              "      <td>0.021955</td>\n",
              "      <td>0.001485</td>\n",
              "      <td>0.0</td>\n",
              "      <td>41</td>\n",
              "      <td>0.008064</td>\n",
              "      <td>0.011545</td>\n",
              "      <td>0.000441</td>\n",
              "      <td>0.0</td>\n",
              "    </tr>\n",
              "    <tr>\n",
              "      <th>42</th>\n",
              "      <td>0.015759</td>\n",
              "      <td>0.021079</td>\n",
              "      <td>0.001369</td>\n",
              "      <td>0.0</td>\n",
              "      <td>42</td>\n",
              "      <td>0.008203</td>\n",
              "      <td>0.011800</td>\n",
              "      <td>0.000441</td>\n",
              "      <td>0.0</td>\n",
              "    </tr>\n",
              "    <tr>\n",
              "      <th>43</th>\n",
              "      <td>0.016826</td>\n",
              "      <td>0.022142</td>\n",
              "      <td>0.001510</td>\n",
              "      <td>0.0</td>\n",
              "      <td>43</td>\n",
              "      <td>0.008163</td>\n",
              "      <td>0.011724</td>\n",
              "      <td>0.000438</td>\n",
              "      <td>0.0</td>\n",
              "    </tr>\n",
              "    <tr>\n",
              "      <th>44</th>\n",
              "      <td>0.015962</td>\n",
              "      <td>0.021241</td>\n",
              "      <td>0.001390</td>\n",
              "      <td>0.0</td>\n",
              "      <td>44</td>\n",
              "      <td>0.007954</td>\n",
              "      <td>0.011338</td>\n",
              "      <td>0.000418</td>\n",
              "      <td>0.0</td>\n",
              "    </tr>\n",
              "    <tr>\n",
              "      <th>45</th>\n",
              "      <td>0.015261</td>\n",
              "      <td>0.020300</td>\n",
              "      <td>0.001269</td>\n",
              "      <td>0.0</td>\n",
              "      <td>45</td>\n",
              "      <td>0.007874</td>\n",
              "      <td>0.011279</td>\n",
              "      <td>0.000416</td>\n",
              "      <td>0.0</td>\n",
              "    </tr>\n",
              "    <tr>\n",
              "      <th>46</th>\n",
              "      <td>0.015595</td>\n",
              "      <td>0.020763</td>\n",
              "      <td>0.001328</td>\n",
              "      <td>0.0</td>\n",
              "      <td>46</td>\n",
              "      <td>0.007679</td>\n",
              "      <td>0.011153</td>\n",
              "      <td>0.000402</td>\n",
              "      <td>0.0</td>\n",
              "    </tr>\n",
              "    <tr>\n",
              "      <th>47</th>\n",
              "      <td>0.014985</td>\n",
              "      <td>0.020096</td>\n",
              "      <td>0.001244</td>\n",
              "      <td>0.0</td>\n",
              "      <td>47</td>\n",
              "      <td>0.007643</td>\n",
              "      <td>0.011039</td>\n",
              "      <td>0.000395</td>\n",
              "      <td>0.0</td>\n",
              "    </tr>\n",
              "    <tr>\n",
              "      <th>48</th>\n",
              "      <td>0.014650</td>\n",
              "      <td>0.019643</td>\n",
              "      <td>0.001189</td>\n",
              "      <td>0.0</td>\n",
              "      <td>48</td>\n",
              "      <td>0.007503</td>\n",
              "      <td>0.010937</td>\n",
              "      <td>0.000385</td>\n",
              "      <td>0.0</td>\n",
              "    </tr>\n",
              "    <tr>\n",
              "      <th>49</th>\n",
              "      <td>0.014870</td>\n",
              "      <td>0.019974</td>\n",
              "      <td>0.001229</td>\n",
              "      <td>0.0</td>\n",
              "      <td>49</td>\n",
              "      <td>0.007485</td>\n",
              "      <td>0.010893</td>\n",
              "      <td>0.000385</td>\n",
              "      <td>0.0</td>\n",
              "    </tr>\n",
              "    <tr>\n",
              "      <th>50</th>\n",
              "      <td>0.016359</td>\n",
              "      <td>0.021561</td>\n",
              "      <td>0.001432</td>\n",
              "      <td>0.0</td>\n",
              "      <td>50</td>\n",
              "      <td>0.007237</td>\n",
              "      <td>0.010558</td>\n",
              "      <td>0.000371</td>\n",
              "      <td>0.0</td>\n",
              "    </tr>\n",
              "    <tr>\n",
              "      <th>51</th>\n",
              "      <td>0.014346</td>\n",
              "      <td>0.019324</td>\n",
              "      <td>0.001150</td>\n",
              "      <td>0.0</td>\n",
              "      <td>51</td>\n",
              "      <td>0.007163</td>\n",
              "      <td>0.010528</td>\n",
              "      <td>0.000368</td>\n",
              "      <td>0.0</td>\n",
              "    </tr>\n",
              "    <tr>\n",
              "      <th>52</th>\n",
              "      <td>0.014838</td>\n",
              "      <td>0.019888</td>\n",
              "      <td>0.001218</td>\n",
              "      <td>0.0</td>\n",
              "      <td>52</td>\n",
              "      <td>0.007057</td>\n",
              "      <td>0.010430</td>\n",
              "      <td>0.000361</td>\n",
              "      <td>0.0</td>\n",
              "    </tr>\n",
              "    <tr>\n",
              "      <th>53</th>\n",
              "      <td>0.014765</td>\n",
              "      <td>0.019800</td>\n",
              "      <td>0.001208</td>\n",
              "      <td>0.0</td>\n",
              "      <td>53</td>\n",
              "      <td>0.007048</td>\n",
              "      <td>0.010373</td>\n",
              "      <td>0.000357</td>\n",
              "      <td>0.0</td>\n",
              "    </tr>\n",
              "    <tr>\n",
              "      <th>54</th>\n",
              "      <td>0.014361</td>\n",
              "      <td>0.019332</td>\n",
              "      <td>0.001151</td>\n",
              "      <td>0.0</td>\n",
              "      <td>54</td>\n",
              "      <td>0.007036</td>\n",
              "      <td>0.010215</td>\n",
              "      <td>0.000350</td>\n",
              "      <td>0.0</td>\n",
              "    </tr>\n",
              "    <tr>\n",
              "      <th>55</th>\n",
              "      <td>0.014415</td>\n",
              "      <td>0.019423</td>\n",
              "      <td>0.001162</td>\n",
              "      <td>0.0</td>\n",
              "      <td>55</td>\n",
              "      <td>0.006906</td>\n",
              "      <td>0.010142</td>\n",
              "      <td>0.000346</td>\n",
              "      <td>0.0</td>\n",
              "    </tr>\n",
              "    <tr>\n",
              "      <th>56</th>\n",
              "      <td>0.014181</td>\n",
              "      <td>0.019080</td>\n",
              "      <td>0.001121</td>\n",
              "      <td>0.0</td>\n",
              "      <td>56</td>\n",
              "      <td>0.006833</td>\n",
              "      <td>0.010061</td>\n",
              "      <td>0.000344</td>\n",
              "      <td>0.0</td>\n",
              "    </tr>\n",
              "    <tr>\n",
              "      <th>57</th>\n",
              "      <td>0.014650</td>\n",
              "      <td>0.019645</td>\n",
              "      <td>0.001189</td>\n",
              "      <td>0.0</td>\n",
              "      <td>57</td>\n",
              "      <td>0.006828</td>\n",
              "      <td>0.010094</td>\n",
              "      <td>0.000342</td>\n",
              "      <td>0.0</td>\n",
              "    </tr>\n",
              "    <tr>\n",
              "      <th>58</th>\n",
              "      <td>0.014290</td>\n",
              "      <td>0.019258</td>\n",
              "      <td>0.001142</td>\n",
              "      <td>0.0</td>\n",
              "      <td>58</td>\n",
              "      <td>0.006702</td>\n",
              "      <td>0.009984</td>\n",
              "      <td>0.000338</td>\n",
              "      <td>0.0</td>\n",
              "    </tr>\n",
              "    <tr>\n",
              "      <th>59</th>\n",
              "      <td>0.014060</td>\n",
              "      <td>0.018978</td>\n",
              "      <td>0.001109</td>\n",
              "      <td>0.0</td>\n",
              "      <td>59</td>\n",
              "      <td>0.006747</td>\n",
              "      <td>0.009889</td>\n",
              "      <td>0.000336</td>\n",
              "      <td>0.0</td>\n",
              "    </tr>\n",
              "  </tbody>\n",
              "</table>\n",
              "</div>"
            ],
            "text/plain": [
              "     MAE_val  RMSE_val  Loss_val  RegLoss_val  epoch       MAE      RMSE  \\\n",
              "0   1.102155  1.288470  1.352599          0.0      0  0.992982  1.200467   \n",
              "1   0.740203  0.900593  0.865056          0.0      1  0.586381  0.740211   \n",
              "2   0.451800  0.558272  0.476085          0.0      2  0.291421  0.386605   \n",
              "3   0.226459  0.267308  0.183194          0.0      3  0.135808  0.189629   \n",
              "4   0.112902  0.134657  0.055036          0.0      4  0.070297  0.093401   \n",
              "5   0.045878  0.059725  0.010988          0.0      5  0.036994  0.049629   \n",
              "6   0.036350  0.049236  0.007467          0.0      6  0.028047  0.037186   \n",
              "7   0.041583  0.053223  0.008726          0.0      7  0.025600  0.033996   \n",
              "8   0.032978  0.043297  0.005775          0.0      8  0.025665  0.033149   \n",
              "9   0.034599  0.045549  0.006391          0.0      9  0.025352  0.032403   \n",
              "10  0.061136  0.072129  0.016026          0.0     10  0.024369  0.031372   \n",
              "11  0.047699  0.061739  0.011741          0.0     11  0.025186  0.032650   \n",
              "12  0.038079  0.049757  0.007626          0.0     12  0.023450  0.030202   \n",
              "13  0.046235  0.054670  0.009207          0.0     13  0.024667  0.031818   \n",
              "14  0.051371  0.062118  0.011886          0.0     14  0.023875  0.031251   \n",
              "15  0.031318  0.039504  0.004807          0.0     15  0.022744  0.029606   \n",
              "16  0.029394  0.037568  0.004347          0.0     16  0.021165  0.027774   \n",
              "17  0.029654  0.037784  0.004398          0.0     17  0.020923  0.027544   \n",
              "18  0.028543  0.037509  0.004334          0.0     18  0.019254  0.025338   \n",
              "19  0.050276  0.059487  0.010901          0.0     19  0.018844  0.024634   \n",
              "20  0.032844  0.040835  0.005137          0.0     20  0.017384  0.022894   \n",
              "21  0.028097  0.035471  0.003876          0.0     21  0.015278  0.020358   \n",
              "22  0.027658  0.034659  0.003700          0.0     22  0.016123  0.021026   \n",
              "23  0.028821  0.036193  0.004035          0.0     23  0.014991  0.019774   \n",
              "24  0.031511  0.038193  0.004493          0.0     24  0.013763  0.018103   \n",
              "25  0.026434  0.033296  0.003415          0.0     25  0.012827  0.017201   \n",
              "26  0.025927  0.032458  0.003245          0.0     26  0.011894  0.016293   \n",
              "27  0.021476  0.027516  0.002332          0.0     27  0.011333  0.015438   \n",
              "28  0.021975  0.028013  0.002417          0.0     28  0.011314  0.015371   \n",
              "29  0.019735  0.025393  0.001986          0.0     29  0.010323  0.014318   \n",
              "30  0.020152  0.026059  0.002092          0.0     30  0.009767  0.013762   \n",
              "31  0.026540  0.032131  0.003180          0.0     31  0.009401  0.013192   \n",
              "32  0.021867  0.027701  0.002364          0.0     32  0.009230  0.012976   \n",
              "33  0.021984  0.027804  0.002381          0.0     33  0.008876  0.012564   \n",
              "34  0.018781  0.024477  0.001846          0.0     34  0.008760  0.012476   \n",
              "35  0.017381  0.022957  0.001623          0.0     35  0.008609  0.012245   \n",
              "36  0.017666  0.023270  0.001668          0.0     36  0.008630  0.012255   \n",
              "37  0.019071  0.024579  0.001861          0.0     37  0.008461  0.012052   \n",
              "38  0.022909  0.028420  0.002488          0.0     38  0.008465  0.012041   \n",
              "39  0.019219  0.024866  0.001905          0.0     39  0.008483  0.011998   \n",
              "40  0.016928  0.022360  0.001540          0.0     40  0.008244  0.011859   \n",
              "41  0.016585  0.021955  0.001485          0.0     41  0.008064  0.011545   \n",
              "42  0.015759  0.021079  0.001369          0.0     42  0.008203  0.011800   \n",
              "43  0.016826  0.022142  0.001510          0.0     43  0.008163  0.011724   \n",
              "44  0.015962  0.021241  0.001390          0.0     44  0.007954  0.011338   \n",
              "45  0.015261  0.020300  0.001269          0.0     45  0.007874  0.011279   \n",
              "46  0.015595  0.020763  0.001328          0.0     46  0.007679  0.011153   \n",
              "47  0.014985  0.020096  0.001244          0.0     47  0.007643  0.011039   \n",
              "48  0.014650  0.019643  0.001189          0.0     48  0.007503  0.010937   \n",
              "49  0.014870  0.019974  0.001229          0.0     49  0.007485  0.010893   \n",
              "50  0.016359  0.021561  0.001432          0.0     50  0.007237  0.010558   \n",
              "51  0.014346  0.019324  0.001150          0.0     51  0.007163  0.010528   \n",
              "52  0.014838  0.019888  0.001218          0.0     52  0.007057  0.010430   \n",
              "53  0.014765  0.019800  0.001208          0.0     53  0.007048  0.010373   \n",
              "54  0.014361  0.019332  0.001151          0.0     54  0.007036  0.010215   \n",
              "55  0.014415  0.019423  0.001162          0.0     55  0.006906  0.010142   \n",
              "56  0.014181  0.019080  0.001121          0.0     56  0.006833  0.010061   \n",
              "57  0.014650  0.019645  0.001189          0.0     57  0.006828  0.010094   \n",
              "58  0.014290  0.019258  0.001142          0.0     58  0.006702  0.009984   \n",
              "59  0.014060  0.018978  0.001109          0.0     59  0.006747  0.009889   \n",
              "\n",
              "        Loss  RegLoss  \n",
              "0   0.933041      0.0  \n",
              "1   0.524942      0.0  \n",
              "2   0.229685      0.0  \n",
              "3   0.081709      0.0  \n",
              "4   0.024636      0.0  \n",
              "5   0.006735      0.0  \n",
              "6   0.003627      0.0  \n",
              "7   0.003000      0.0  \n",
              "8   0.002910      0.0  \n",
              "9   0.002775      0.0  \n",
              "10  0.002636      0.0  \n",
              "11  0.002909      0.0  \n",
              "12  0.002499      0.0  \n",
              "13  0.002805      0.0  \n",
              "14  0.002739      0.0  \n",
              "15  0.002454      0.0  \n",
              "16  0.002162      0.0  \n",
              "17  0.002119      0.0  \n",
              "18  0.001808      0.0  \n",
              "19  0.001739      0.0  \n",
              "20  0.001486      0.0  \n",
              "21  0.001185      0.0  \n",
              "22  0.001277      0.0  \n",
              "23  0.001107      0.0  \n",
              "24  0.000960      0.0  \n",
              "25  0.000868      0.0  \n",
              "26  0.000804      0.0  \n",
              "27  0.000730      0.0  \n",
              "28  0.000701      0.0  \n",
              "29  0.000611      0.0  \n",
              "30  0.000580      0.0  \n",
              "31  0.000543      0.0  \n",
              "32  0.000542      0.0  \n",
              "33  0.000497      0.0  \n",
              "34  0.000494      0.0  \n",
              "35  0.000486      0.0  \n",
              "36  0.000481      0.0  \n",
              "37  0.000463      0.0  \n",
              "38  0.000471      0.0  \n",
              "39  0.000463      0.0  \n",
              "40  0.000452      0.0  \n",
              "41  0.000441      0.0  \n",
              "42  0.000441      0.0  \n",
              "43  0.000438      0.0  \n",
              "44  0.000418      0.0  \n",
              "45  0.000416      0.0  \n",
              "46  0.000402      0.0  \n",
              "47  0.000395      0.0  \n",
              "48  0.000385      0.0  \n",
              "49  0.000385      0.0  \n",
              "50  0.000371      0.0  \n",
              "51  0.000368      0.0  \n",
              "52  0.000361      0.0  \n",
              "53  0.000357      0.0  \n",
              "54  0.000350      0.0  \n",
              "55  0.000346      0.0  \n",
              "56  0.000344      0.0  \n",
              "57  0.000342      0.0  \n",
              "58  0.000338      0.0  \n",
              "59  0.000336      0.0  "
            ]
          },
          "metadata": {},
          "output_type": "display_data"
        }
      ],
      "source": [
        "m = NeuralProphet(\n",
        "    trend_reg=0.1,\n",
        "    learning_rate=0.01,\n",
        "    batch_size=16,\n",
        "    epochs=60,\n",
        "    n_lags=1,\n",
        ")\n",
        "\n",
        "m.add_future_regressor('Volume')\n",
        "m.add_future_regressor('SMA_7')\n",
        "m.add_future_regressor('EMA_14')\n",
        "m.add_future_regressor('RSI_14')\n",
        "\n",
        "metrics = m.fit(train_scaled_df, validation_df=val_scaled_df)\n",
        "display(metrics)"
      ]
    },
    {
      "cell_type": "markdown",
      "metadata": {
        "id": "NPQ-SKzT1vL0"
      },
      "source": [
        "# 6. Evaluation on Test\n",
        "## - **MSE**  \n",
        "## - **MAE**  \n",
        "## - **RMSE**  \n",
        "## - **MAPE**  "
      ]
    },
    {
      "cell_type": "code",
      "execution_count": null,
      "metadata": {
        "colab": {
          "base_uri": "https://localhost:8080/",
          "referenced_widgets": [
            "db4cfd118e6445ba8cf57167f7ec2ac7"
          ]
        },
        "id": "itJfxzLq1xHW",
        "outputId": "65515d6f-027a-4137-dcd3-e142e42d5e2f"
      },
      "outputs": [
        {
          "name": "stderr",
          "output_type": "stream",
          "text": [
            "WARNING - (py.warnings._showwarnmsg) - /Users/stanleyko/git/coursework/ecs171/venv/lib/python3.12/site-packages/neuralprophet/df_utils.py:1152: FutureWarning:\n",
            "\n",
            "Series.view is deprecated and will be removed in a future version. Use ``astype`` as an alternative to change the dtype.\n",
            "\n",
            "\n",
            "WARNING - (py.warnings._showwarnmsg) - /Users/stanleyko/git/coursework/ecs171/venv/lib/python3.12/site-packages/neuralprophet/df_utils.py:1152: FutureWarning:\n",
            "\n",
            "Series.view is deprecated and will be removed in a future version. Use ``astype`` as an alternative to change the dtype.\n",
            "\n",
            "\n",
            "WARNING - (py.warnings._showwarnmsg) - /Users/stanleyko/git/coursework/ecs171/venv/lib/python3.12/site-packages/neuralprophet/df_utils.py:1152: FutureWarning:\n",
            "\n",
            "Series.view is deprecated and will be removed in a future version. Use ``astype`` as an alternative to change the dtype.\n",
            "\n",
            "\n",
            "WARNING - (py.warnings._showwarnmsg) - /Users/stanleyko/git/coursework/ecs171/venv/lib/python3.12/site-packages/neuralprophet/data/split.py:69: FutureWarning:\n",
            "\n",
            "The behavior of DataFrame concatenation with empty or all-NA entries is deprecated. In a future version, this will no longer exclude empty or all-NA columns when determining the result dtypes. To retain the old behavior, exclude the relevant entries before the concat operation.\n",
            "\n",
            "\n",
            "WARNING - (py.warnings._showwarnmsg) - /Users/stanleyko/git/coursework/ecs171/venv/lib/python3.12/site-packages/neuralprophet/df_utils.py:1152: FutureWarning:\n",
            "\n",
            "Series.view is deprecated and will be removed in a future version. Use ``astype`` as an alternative to change the dtype.\n",
            "\n",
            "\n",
            "WARNING - (py.warnings._showwarnmsg) - /Users/stanleyko/git/coursework/ecs171/venv/lib/python3.12/site-packages/neuralprophet/df_utils.py:1152: FutureWarning:\n",
            "\n",
            "Series.view is deprecated and will be removed in a future version. Use ``astype`` as an alternative to change the dtype.\n",
            "\n",
            "\n",
            "WARNING - (py.warnings._showwarnmsg) - /Users/stanleyko/git/coursework/ecs171/venv/lib/python3.12/site-packages/neuralprophet/df_utils.py:1152: FutureWarning:\n",
            "\n",
            "Series.view is deprecated and will be removed in a future version. Use ``astype`` as an alternative to change the dtype.\n",
            "\n",
            "\n"
          ]
        },
        {
          "data": {
            "application/vnd.jupyter.widget-view+json": {
              "model_id": "db4cfd118e6445ba8cf57167f7ec2ac7",
              "version_major": 2,
              "version_minor": 0
            },
            "text/plain": [
              "Predicting: 162it [00:00, ?it/s]"
            ]
          },
          "metadata": {},
          "output_type": "display_data"
        },
        {
          "name": "stdout",
          "output_type": "stream",
          "text": [
            "Test MSE (real scale):   279113.1335554787\n",
            "Test RMSE (real scale):  528.3115875650266\n",
            "Test MAE (real scale):   403.96513750180605\n",
            "Test MAPE (real scale):  1.7767301175343162\n"
          ]
        }
      ],
      "source": [
        "predictions = m.predict(test_scaled_df)\n",
        "# display(predictions.tail())\n",
        "\n",
        "# Remove NaN values from predictions and test data\n",
        "# valid_indices = ~np.isnan(predictions['yhat1'].values)\n",
        "# valid_predictions = predictions['yhat1'].values[valid_indices]\n",
        "# valid_test_scaled = test_scaled_df['y'].values[valid_indices]\n",
        "\n",
        "# print(valid_predictions)\n",
        "\n",
        "# Inverse transform the predictions\n",
        "def inverse_transform_close(scaled_close):\n",
        "    \"\"\"\n",
        "    scaled_close: shape (N,)\n",
        "    Returns: real BTC prices\n",
        "    \"\"\"\n",
        "    # We create a 2D array of zeros with the same number of columns as we had in training\n",
        "    # Fill the first column with scaled_close, then invert transform\n",
        "    dummy = np.zeros((len(scaled_close), len(non_date_cols)))\n",
        "    dummy[:, 0] = scaled_close  # place it in 'Close' position\n",
        "    dummy_inverted = scaler.inverse_transform(dummy)\n",
        "    return dummy_inverted[:, 0]  # return only 'Close' column\n",
        "\n",
        "inverse_preds = inverse_transform_close(predictions['yhat1'].values)\n",
        "inverse_test = inverse_transform_close(test_scaled_df['y'].values)\n",
        "\n",
        "# first value is nan because of n_lags\n",
        "inverse_preds[0] = inverse_preds[1]\n",
        "# print(inverse_preds)\n",
        "\n",
        "# Evaluations\n",
        "mse = np.mean((inverse_preds - inverse_test)**2)\n",
        "rmse = math.sqrt(mse)\n",
        "mae = np.mean(np.abs(inverse_preds - inverse_test))\n",
        "mape = np.mean(np.abs((inverse_preds - inverse_test) / (inverse_test+1e-8))) * 100\n",
        "\n",
        "print(\"Test MSE (real scale):  \", mse)\n",
        "print(\"Test RMSE (real scale): \", rmse)\n",
        "print(\"Test MAE (real scale):  \", mae)\n",
        "print(\"Test MAPE (real scale): \", mape)\n",
        "\n",
        "# print(\"Test MSE (real scale):  \", mse)\n",
        "# print(\"Test RMSE (real scale): \", rmse)\n",
        "# print(\"Test MAE (real scale):  \", mae)\n",
        "# print(\"Test MAPE (real scale): \", mape)"
      ]
    },
    {
      "cell_type": "markdown",
      "metadata": {
        "id": "SXaI42WrIo_7"
      },
      "source": [
        "# 7. Visualization of predictions on test"
      ]
    },
    {
      "cell_type": "code",
      "execution_count": null,
      "metadata": {
        "id": "UKbZCFX4Io_7",
        "outputId": "e4b1a5da-9be6-4e92-9968-f9f22a73f158"
      },
      "outputs": [
        {
          "data": {
            "image/png": "[encoded data removed]",
            "text/plain": [
              "<Figure size 1400x700 with 1 Axes>"
            ]
          },
          "metadata": {},
          "output_type": "display_data"
        }
      ],
      "source": [
        "# Plot the predictions\n",
        "plt.figure(figsize=(14, 7))\n",
        "plt.plot(test_df['ds'], inverse_test, label='True')\n",
        "plt.plot(test_df['ds'], inverse_preds, label='Predictions')\n",
        "plt.title(\"BTC Price Prediction\")\n",
        "plt.xlabel(\"Date\")\n",
        "plt.ylabel(\"BTC Price\")\n",
        "plt.legend()\n",
        "plt.show()"
      ]
    }
  ],
  "metadata": {
    "accelerator": "GPU",
    "colab": {
      "gpuType": "T4",
      "provenance": [],
      "include_colab_link": true
    },
    "kernelspec": {
      "display_name": "venv",
      "language": "python",
      "name": "python3"
    },
    "language_info": {
      "codemirror_mode": {
        "name": "ipython",
        "version": 3
      },
      "file_extension": ".py",
      "mimetype": "text/x-python",
      "name": "python",
      "nbconvert_exporter": "python",
      "pygments_lexer": "ipython3",
      "version": "3.12.2"
    }
  },
  "nbformat": 4,
  "nbformat_minor": 0
}